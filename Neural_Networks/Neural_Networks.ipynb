{
  "nbformat": 4,
  "nbformat_minor": 0,
  "metadata": {
    "colab": {
      "name": "Neural_Networks.ipynb",
      "version": "0.3.2",
      "provenance": [],
      "include_colab_link": true
    },
    "kernelspec": {
      "name": "python3",
      "display_name": "Python 3"
    }
  },
  "cells": [
    {
      "cell_type": "markdown",
      "metadata": {
        "id": "view-in-github",
        "colab_type": "text"
      },
      "source": [
        "<a href=\"https://colab.research.google.com/github/randerson112358/Python/blob/master/Neural_Networks.ipynb\" target=\"_parent\"><img src=\"https://colab.research.google.com/assets/colab-badge.svg\" alt=\"Open In Colab\"/></a>"
      ]
    },
    {
      "cell_type": "markdown",
      "metadata": {
        "id": "p_UN7AMsdTWf",
        "colab_type": "text"
      },
      "source": [
        "![Houses](https://cdn12.picryl.com/photo/2016/12/31/painted-ladies-houses-san-francisco-architecture-buildings-2efc18-1024.jpg)\n",
        "# House Median Price Prediction\n",
        "### Using Deep Neural Networks\n",
        "\n",
        "### Program Description\n",
        "This program predicts if the price of a house will be above the median price or not based off of it's features.\n",
        "\n",
        "### About Neural Networks\n",
        "Artificial neural networks (ANN) or connectionist systems are computing systems that are inspired by, but not necessarily identical to, the biological neural networks that constitute animal brains. Such systems \"learn\" to perform tasks by considering examples, generally without being programmed with any task-specific rules. Deep Neural networs are just ANN's with multiple hidden layers."
      ]
    },
    {
      "cell_type": "code",
      "metadata": {
        "id": "tpVWIrlZazJP",
        "colab_type": "code",
        "colab": {
          "base_uri": "https://localhost:8080/",
          "height": 34
        },
        "outputId": "8c02c779-1a69-4fb0-ed13-fa9d8cda118b"
      },
      "source": [
        "#import the dependencies\n",
        "import pandas as pd\n",
        "from keras.models import Sequential\n",
        "from keras.layers import Dense\n",
        "from sklearn.model_selection import train_test_split\n",
        "import matplotlib.pyplot as plt\n",
        "\n",
        "\n"
      ],
      "execution_count": 2,
      "outputs": [
        {
          "output_type": "stream",
          "text": [
            "Using TensorFlow backend.\n"
          ],
          "name": "stderr"
        }
      ]
    },
    {
      "cell_type": "code",
      "metadata": {
        "id": "s8Uf1NyMsTtP",
        "colab_type": "code",
        "colab": {}
      },
      "source": [
        "#Load the data set\n",
        "df = pd.read_csv('housepricedata.csv')\n"
      ],
      "execution_count": 0,
      "outputs": []
    },
    {
      "cell_type": "code",
      "metadata": {
        "id": "vYn84ufmuAub",
        "colab_type": "code",
        "colab": {
          "base_uri": "https://localhost:8080/",
          "height": 266
        },
        "outputId": "c0539c00-0f14-4207-ae38-79ea49a92078"
      },
      "source": [
        "#Look at the data first 7 rows of data\n",
        "df.head(7)"
      ],
      "execution_count": 4,
      "outputs": [
        {
          "output_type": "execute_result",
          "data": {
            "text/html": [
              "<div>\n",
              "<style scoped>\n",
              "    .dataframe tbody tr th:only-of-type {\n",
              "        vertical-align: middle;\n",
              "    }\n",
              "\n",
              "    .dataframe tbody tr th {\n",
              "        vertical-align: top;\n",
              "    }\n",
              "\n",
              "    .dataframe thead th {\n",
              "        text-align: right;\n",
              "    }\n",
              "</style>\n",
              "<table border=\"1\" class=\"dataframe\">\n",
              "  <thead>\n",
              "    <tr style=\"text-align: right;\">\n",
              "      <th></th>\n",
              "      <th>LotArea</th>\n",
              "      <th>OverallQual</th>\n",
              "      <th>OverallCond</th>\n",
              "      <th>TotalBsmtSF</th>\n",
              "      <th>FullBath</th>\n",
              "      <th>HalfBath</th>\n",
              "      <th>BedroomAbvGr</th>\n",
              "      <th>TotRmsAbvGrd</th>\n",
              "      <th>Fireplaces</th>\n",
              "      <th>GarageArea</th>\n",
              "      <th>AboveMedianPrice</th>\n",
              "    </tr>\n",
              "  </thead>\n",
              "  <tbody>\n",
              "    <tr>\n",
              "      <th>0</th>\n",
              "      <td>8450</td>\n",
              "      <td>7</td>\n",
              "      <td>5</td>\n",
              "      <td>856</td>\n",
              "      <td>2</td>\n",
              "      <td>1</td>\n",
              "      <td>3</td>\n",
              "      <td>8</td>\n",
              "      <td>0</td>\n",
              "      <td>548</td>\n",
              "      <td>1</td>\n",
              "    </tr>\n",
              "    <tr>\n",
              "      <th>1</th>\n",
              "      <td>9600</td>\n",
              "      <td>6</td>\n",
              "      <td>8</td>\n",
              "      <td>1262</td>\n",
              "      <td>2</td>\n",
              "      <td>0</td>\n",
              "      <td>3</td>\n",
              "      <td>6</td>\n",
              "      <td>1</td>\n",
              "      <td>460</td>\n",
              "      <td>1</td>\n",
              "    </tr>\n",
              "    <tr>\n",
              "      <th>2</th>\n",
              "      <td>11250</td>\n",
              "      <td>7</td>\n",
              "      <td>5</td>\n",
              "      <td>920</td>\n",
              "      <td>2</td>\n",
              "      <td>1</td>\n",
              "      <td>3</td>\n",
              "      <td>6</td>\n",
              "      <td>1</td>\n",
              "      <td>608</td>\n",
              "      <td>1</td>\n",
              "    </tr>\n",
              "    <tr>\n",
              "      <th>3</th>\n",
              "      <td>9550</td>\n",
              "      <td>7</td>\n",
              "      <td>5</td>\n",
              "      <td>756</td>\n",
              "      <td>1</td>\n",
              "      <td>0</td>\n",
              "      <td>3</td>\n",
              "      <td>7</td>\n",
              "      <td>1</td>\n",
              "      <td>642</td>\n",
              "      <td>0</td>\n",
              "    </tr>\n",
              "    <tr>\n",
              "      <th>4</th>\n",
              "      <td>14260</td>\n",
              "      <td>8</td>\n",
              "      <td>5</td>\n",
              "      <td>1145</td>\n",
              "      <td>2</td>\n",
              "      <td>1</td>\n",
              "      <td>4</td>\n",
              "      <td>9</td>\n",
              "      <td>1</td>\n",
              "      <td>836</td>\n",
              "      <td>1</td>\n",
              "    </tr>\n",
              "    <tr>\n",
              "      <th>5</th>\n",
              "      <td>14115</td>\n",
              "      <td>5</td>\n",
              "      <td>5</td>\n",
              "      <td>796</td>\n",
              "      <td>1</td>\n",
              "      <td>1</td>\n",
              "      <td>1</td>\n",
              "      <td>5</td>\n",
              "      <td>0</td>\n",
              "      <td>480</td>\n",
              "      <td>0</td>\n",
              "    </tr>\n",
              "    <tr>\n",
              "      <th>6</th>\n",
              "      <td>10084</td>\n",
              "      <td>8</td>\n",
              "      <td>5</td>\n",
              "      <td>1686</td>\n",
              "      <td>2</td>\n",
              "      <td>0</td>\n",
              "      <td>3</td>\n",
              "      <td>7</td>\n",
              "      <td>1</td>\n",
              "      <td>636</td>\n",
              "      <td>1</td>\n",
              "    </tr>\n",
              "  </tbody>\n",
              "</table>\n",
              "</div>"
            ],
            "text/plain": [
              "   LotArea  OverallQual  OverallCond  ...  Fireplaces  GarageArea  AboveMedianPrice\n",
              "0     8450            7            5  ...           0         548                 1\n",
              "1     9600            6            8  ...           1         460                 1\n",
              "2    11250            7            5  ...           1         608                 1\n",
              "3     9550            7            5  ...           1         642                 0\n",
              "4    14260            8            5  ...           1         836                 1\n",
              "5    14115            5            5  ...           0         480                 0\n",
              "6    10084            8            5  ...           1         636                 1\n",
              "\n",
              "[7 rows x 11 columns]"
            ]
          },
          "metadata": {
            "tags": []
          },
          "execution_count": 4
        }
      ]
    },
    {
      "cell_type": "code",
      "metadata": {
        "id": "zlukoFjStifz",
        "colab_type": "code",
        "colab": {
          "base_uri": "https://localhost:8080/",
          "height": 136
        },
        "outputId": "17153428-1860-4b4e-d8db-3f46d2b82837"
      },
      "source": [
        "#Convert the data into an array\n",
        "dataset = df.values\n",
        "dataset"
      ],
      "execution_count": 5,
      "outputs": [
        {
          "output_type": "execute_result",
          "data": {
            "text/plain": [
              "array([[ 8450,     7,     5, ...,     0,   548,     1],\n",
              "       [ 9600,     6,     8, ...,     1,   460,     1],\n",
              "       [11250,     7,     5, ...,     1,   608,     1],\n",
              "       ...,\n",
              "       [ 9042,     7,     9, ...,     2,   252,     1],\n",
              "       [ 9717,     5,     6, ...,     0,   240,     0],\n",
              "       [ 9937,     5,     6, ...,     0,   276,     0]])"
            ]
          },
          "metadata": {
            "tags": []
          },
          "execution_count": 5
        }
      ]
    },
    {
      "cell_type": "code",
      "metadata": {
        "id": "gnXZ9IxgTT5Y",
        "colab_type": "code",
        "colab": {}
      },
      "source": [
        "#Split the data set\n",
        "X = dataset[:,0:10]\n",
        "Y = dataset[:,10]"
      ],
      "execution_count": 0,
      "outputs": []
    },
    {
      "cell_type": "code",
      "metadata": {
        "id": "j4JDp14yUK_u",
        "colab_type": "code",
        "colab": {
          "base_uri": "https://localhost:8080/",
          "height": 238
        },
        "outputId": "7c109f61-00b4-4804-a488-097640a1f3e7"
      },
      "source": [
        "#the min-max scaler method scales the dataset so that all the input features lie between 0 and 1 inclusive\n",
        "from sklearn import preprocessing\n",
        "min_max_scaler = preprocessing.MinMaxScaler()\n",
        "X_scale = min_max_scaler.fit_transform(X)\n",
        "X_scale"
      ],
      "execution_count": 8,
      "outputs": [
        {
          "output_type": "execute_result",
          "data": {
            "text/plain": [
              "array([[0.0334198 , 0.66666667, 0.5       , ..., 0.5       , 0.        ,\n",
              "        0.3864598 ],\n",
              "       [0.03879502, 0.55555556, 0.875     , ..., 0.33333333, 0.33333333,\n",
              "        0.32440056],\n",
              "       [0.04650728, 0.66666667, 0.5       , ..., 0.33333333, 0.33333333,\n",
              "        0.42877292],\n",
              "       ...,\n",
              "       [0.03618687, 0.66666667, 1.        , ..., 0.58333333, 0.66666667,\n",
              "        0.17771509],\n",
              "       [0.03934189, 0.44444444, 0.625     , ..., 0.25      , 0.        ,\n",
              "        0.16925247],\n",
              "       [0.04037019, 0.44444444, 0.625     , ..., 0.33333333, 0.        ,\n",
              "        0.19464034]])"
            ]
          },
          "metadata": {
            "tags": []
          },
          "execution_count": 8
        }
      ]
    },
    {
      "cell_type": "code",
      "metadata": {
        "id": "EwftF_DsUXJ9",
        "colab_type": "code",
        "colab": {
          "base_uri": "https://localhost:8080/",
          "height": 34
        },
        "outputId": "5d516719-6b77-4464-d64c-bb47671ebbbd"
      },
      "source": [
        "#Split the data into 80% training and 20% (testing (10%) and validation (10%))\n",
        "from sklearn.model_selection import train_test_split\n",
        "X_train, X_val_and_test, Y_train, Y_val_and_test = train_test_split(X_scale, Y, test_size=0.2)\n",
        "X_val, X_test, Y_val, Y_test = train_test_split(X_val_and_test, Y_val_and_test, test_size=0.5)\n",
        "\n",
        "#the training set has 1022 data points while the validation and test set has 219 data points each. The X variables have 10 input features, while the Y variables only has one feature to predict.\n",
        "print(X_train.shape, X_val.shape, X_test.shape, Y_train.shape, Y_val.shape, Y_test.shape)"
      ],
      "execution_count": 11,
      "outputs": [
        {
          "output_type": "stream",
          "text": [
            "(1022, 10) (219, 10) (219, 10) (1022,) (219,) (219,)\n"
          ],
          "name": "stdout"
        }
      ]
    },
    {
      "cell_type": "code",
      "metadata": {
        "id": "cViCvHCZU0wj",
        "colab_type": "code",
        "colab": {}
      },
      "source": [
        "#Build the model and architecture of the deep neural network\n",
        "from keras.models import Sequential\n",
        "from keras.layers import Dense\n",
        "\n",
        "# The models architechture 4 layers, 3 with 32 neurons and activation function = relu function, \n",
        "# the last layer has 1 neuron with an activation function = sigmoid function which returns a value btwn 0 and 1\n",
        "# The input shape/ input_dim = 10 the number of features in the data set\n",
        "model = Sequential([\n",
        "    Dense(32, activation='relu', input_shape=(10,)),\n",
        "    Dense(32, activation='relu'),\n",
        "    Dense(32, activation='relu'),\n",
        "    Dense(1, activation='sigmoid')\n",
        "])"
      ],
      "execution_count": 0,
      "outputs": []
    },
    {
      "cell_type": "code",
      "metadata": {
        "id": "fu80jev3VPUe",
        "colab_type": "code",
        "colab": {}
      },
      "source": [
        "# loss measuers how well the model did on training , and then tries to improve on it using the optimizer\n",
        "model.compile(optimizer='sgd',\n",
        "              loss='binary_crossentropy',\n",
        "              metrics=['accuracy'])"
      ],
      "execution_count": 0,
      "outputs": []
    },
    {
      "cell_type": "code",
      "metadata": {
        "id": "eYg91iQPVWK9",
        "colab_type": "code",
        "colab": {
          "base_uri": "https://localhost:8080/",
          "height": 3434
        },
        "outputId": "3c104cf1-7383-47de-8140-207351e2142c"
      },
      "source": [
        "#Train the model\n",
        "hist = model.fit(X_train, Y_train,\n",
        "          batch_size=32, epochs=100,\n",
        "          validation_data=(X_val, Y_val))"
      ],
      "execution_count": 83,
      "outputs": [
        {
          "output_type": "stream",
          "text": [
            "Train on 1022 samples, validate on 219 samples\n",
            "Epoch 1/100\n",
            "1022/1022 [==============================] - 1s 1ms/step - loss: 0.6923 - acc: 0.5323 - val_loss: 0.6939 - val_acc: 0.4932\n",
            "Epoch 2/100\n",
            "1022/1022 [==============================] - 0s 67us/step - loss: 0.6887 - acc: 0.5499 - val_loss: 0.6908 - val_acc: 0.5114\n",
            "Epoch 3/100\n",
            "1022/1022 [==============================] - 0s 53us/step - loss: 0.6850 - acc: 0.5881 - val_loss: 0.6877 - val_acc: 0.5525\n",
            "Epoch 4/100\n",
            "1022/1022 [==============================] - 0s 58us/step - loss: 0.6818 - acc: 0.6018 - val_loss: 0.6851 - val_acc: 0.5708\n",
            "Epoch 5/100\n",
            "1022/1022 [==============================] - 0s 55us/step - loss: 0.6790 - acc: 0.6341 - val_loss: 0.6828 - val_acc: 0.5753\n",
            "Epoch 6/100\n",
            "1022/1022 [==============================] - 0s 52us/step - loss: 0.6762 - acc: 0.6301 - val_loss: 0.6803 - val_acc: 0.6119\n",
            "Epoch 7/100\n",
            "1022/1022 [==============================] - 0s 53us/step - loss: 0.6735 - acc: 0.6614 - val_loss: 0.6779 - val_acc: 0.6256\n",
            "Epoch 8/100\n",
            "1022/1022 [==============================] - 0s 54us/step - loss: 0.6706 - acc: 0.6781 - val_loss: 0.6754 - val_acc: 0.6347\n",
            "Epoch 9/100\n",
            "1022/1022 [==============================] - 0s 57us/step - loss: 0.6676 - acc: 0.6849 - val_loss: 0.6727 - val_acc: 0.6438\n",
            "Epoch 10/100\n",
            "1022/1022 [==============================] - 0s 50us/step - loss: 0.6644 - acc: 0.6859 - val_loss: 0.6697 - val_acc: 0.6575\n",
            "Epoch 11/100\n",
            "1022/1022 [==============================] - 0s 52us/step - loss: 0.6612 - acc: 0.7045 - val_loss: 0.6666 - val_acc: 0.6804\n",
            "Epoch 12/100\n",
            "1022/1022 [==============================] - 0s 57us/step - loss: 0.6577 - acc: 0.7211 - val_loss: 0.6633 - val_acc: 0.6941\n",
            "Epoch 13/100\n",
            "1022/1022 [==============================] - 0s 52us/step - loss: 0.6538 - acc: 0.7495 - val_loss: 0.6598 - val_acc: 0.6941\n",
            "Epoch 14/100\n",
            "1022/1022 [==============================] - 0s 51us/step - loss: 0.6496 - acc: 0.7309 - val_loss: 0.6554 - val_acc: 0.7352\n",
            "Epoch 15/100\n",
            "1022/1022 [==============================] - 0s 51us/step - loss: 0.6449 - acc: 0.7573 - val_loss: 0.6508 - val_acc: 0.7580\n",
            "Epoch 16/100\n",
            "1022/1022 [==============================] - 0s 53us/step - loss: 0.6398 - acc: 0.7446 - val_loss: 0.6455 - val_acc: 0.7808\n",
            "Epoch 17/100\n",
            "1022/1022 [==============================] - 0s 53us/step - loss: 0.6342 - acc: 0.7935 - val_loss: 0.6405 - val_acc: 0.7854\n",
            "Epoch 18/100\n",
            "1022/1022 [==============================] - 0s 52us/step - loss: 0.6283 - acc: 0.7838 - val_loss: 0.6345 - val_acc: 0.8037\n",
            "Epoch 19/100\n",
            "1022/1022 [==============================] - 0s 51us/step - loss: 0.6216 - acc: 0.8121 - val_loss: 0.6283 - val_acc: 0.8128\n",
            "Epoch 20/100\n",
            "1022/1022 [==============================] - 0s 53us/step - loss: 0.6145 - acc: 0.8082 - val_loss: 0.6211 - val_acc: 0.8174\n",
            "Epoch 21/100\n",
            "1022/1022 [==============================] - 0s 55us/step - loss: 0.6067 - acc: 0.8200 - val_loss: 0.6133 - val_acc: 0.8219\n",
            "Epoch 22/100\n",
            "1022/1022 [==============================] - 0s 51us/step - loss: 0.5984 - acc: 0.8346 - val_loss: 0.6049 - val_acc: 0.8311\n",
            "Epoch 23/100\n",
            "1022/1022 [==============================] - 0s 51us/step - loss: 0.5892 - acc: 0.8434 - val_loss: 0.5963 - val_acc: 0.8356\n",
            "Epoch 24/100\n",
            "1022/1022 [==============================] - 0s 55us/step - loss: 0.5794 - acc: 0.8415 - val_loss: 0.5857 - val_acc: 0.8447\n",
            "Epoch 25/100\n",
            "1022/1022 [==============================] - 0s 62us/step - loss: 0.5688 - acc: 0.8464 - val_loss: 0.5752 - val_acc: 0.8493\n",
            "Epoch 26/100\n",
            "1022/1022 [==============================] - 0s 51us/step - loss: 0.5573 - acc: 0.8562 - val_loss: 0.5650 - val_acc: 0.8493\n",
            "Epoch 27/100\n",
            "1022/1022 [==============================] - 0s 51us/step - loss: 0.5455 - acc: 0.8552 - val_loss: 0.5532 - val_acc: 0.8447\n",
            "Epoch 28/100\n",
            "1022/1022 [==============================] - 0s 69us/step - loss: 0.5327 - acc: 0.8493 - val_loss: 0.5401 - val_acc: 0.8447\n",
            "Epoch 29/100\n",
            "1022/1022 [==============================] - 0s 55us/step - loss: 0.5193 - acc: 0.8542 - val_loss: 0.5258 - val_acc: 0.8630\n",
            "Epoch 30/100\n",
            "1022/1022 [==============================] - 0s 50us/step - loss: 0.5055 - acc: 0.8640 - val_loss: 0.5133 - val_acc: 0.8539\n",
            "Epoch 31/100\n",
            "1022/1022 [==============================] - 0s 54us/step - loss: 0.4915 - acc: 0.8581 - val_loss: 0.4982 - val_acc: 0.8584\n",
            "Epoch 32/100\n",
            "1022/1022 [==============================] - 0s 55us/step - loss: 0.4765 - acc: 0.8611 - val_loss: 0.4840 - val_acc: 0.8493\n",
            "Epoch 33/100\n",
            "1022/1022 [==============================] - 0s 61us/step - loss: 0.4613 - acc: 0.8699 - val_loss: 0.4702 - val_acc: 0.8493\n",
            "Epoch 34/100\n",
            "1022/1022 [==============================] - 0s 54us/step - loss: 0.4471 - acc: 0.8708 - val_loss: 0.4580 - val_acc: 0.8539\n",
            "Epoch 35/100\n",
            "1022/1022 [==============================] - 0s 56us/step - loss: 0.4329 - acc: 0.8728 - val_loss: 0.4442 - val_acc: 0.8539\n",
            "Epoch 36/100\n",
            "1022/1022 [==============================] - 0s 54us/step - loss: 0.4195 - acc: 0.8757 - val_loss: 0.4302 - val_acc: 0.8630\n",
            "Epoch 37/100\n",
            "1022/1022 [==============================] - 0s 52us/step - loss: 0.4069 - acc: 0.8767 - val_loss: 0.4197 - val_acc: 0.8630\n",
            "Epoch 38/100\n",
            "1022/1022 [==============================] - 0s 53us/step - loss: 0.3945 - acc: 0.8767 - val_loss: 0.4109 - val_acc: 0.8630\n",
            "Epoch 39/100\n",
            "1022/1022 [==============================] - 0s 54us/step - loss: 0.3832 - acc: 0.8796 - val_loss: 0.3970 - val_acc: 0.8630\n",
            "Epoch 40/100\n",
            "1022/1022 [==============================] - 0s 52us/step - loss: 0.3729 - acc: 0.8806 - val_loss: 0.3877 - val_acc: 0.8630\n",
            "Epoch 41/100\n",
            "1022/1022 [==============================] - 0s 53us/step - loss: 0.3635 - acc: 0.8865 - val_loss: 0.3810 - val_acc: 0.8630\n",
            "Epoch 42/100\n",
            "1022/1022 [==============================] - 0s 53us/step - loss: 0.3540 - acc: 0.8855 - val_loss: 0.3710 - val_acc: 0.8721\n",
            "Epoch 43/100\n",
            "1022/1022 [==============================] - 0s 53us/step - loss: 0.3459 - acc: 0.8806 - val_loss: 0.3641 - val_acc: 0.8676\n",
            "Epoch 44/100\n",
            "1022/1022 [==============================] - 0s 56us/step - loss: 0.3380 - acc: 0.8806 - val_loss: 0.3579 - val_acc: 0.8676\n",
            "Epoch 45/100\n",
            "1022/1022 [==============================] - 0s 52us/step - loss: 0.3311 - acc: 0.8855 - val_loss: 0.3528 - val_acc: 0.8721\n",
            "Epoch 46/100\n",
            "1022/1022 [==============================] - 0s 52us/step - loss: 0.3239 - acc: 0.8845 - val_loss: 0.3466 - val_acc: 0.8904\n",
            "Epoch 47/100\n",
            "1022/1022 [==============================] - 0s 53us/step - loss: 0.3189 - acc: 0.8865 - val_loss: 0.3420 - val_acc: 0.8721\n",
            "Epoch 48/100\n",
            "1022/1022 [==============================] - 0s 54us/step - loss: 0.3138 - acc: 0.8855 - val_loss: 0.3373 - val_acc: 0.8813\n",
            "Epoch 49/100\n",
            "1022/1022 [==============================] - 0s 68us/step - loss: 0.3088 - acc: 0.8904 - val_loss: 0.3349 - val_acc: 0.8813\n",
            "Epoch 50/100\n",
            "1022/1022 [==============================] - 0s 58us/step - loss: 0.3021 - acc: 0.8855 - val_loss: 0.3297 - val_acc: 0.8904\n",
            "Epoch 51/100\n",
            "1022/1022 [==============================] - 0s 53us/step - loss: 0.2996 - acc: 0.8894 - val_loss: 0.3287 - val_acc: 0.8950\n",
            "Epoch 52/100\n",
            "1022/1022 [==============================] - 0s 53us/step - loss: 0.2970 - acc: 0.8904 - val_loss: 0.3230 - val_acc: 0.8904\n",
            "Epoch 53/100\n",
            "1022/1022 [==============================] - 0s 56us/step - loss: 0.2927 - acc: 0.8914 - val_loss: 0.3209 - val_acc: 0.8904\n",
            "Epoch 54/100\n",
            "1022/1022 [==============================] - 0s 52us/step - loss: 0.2916 - acc: 0.8894 - val_loss: 0.3183 - val_acc: 0.8904\n",
            "Epoch 55/100\n",
            "1022/1022 [==============================] - 0s 52us/step - loss: 0.2885 - acc: 0.8904 - val_loss: 0.3156 - val_acc: 0.8950\n",
            "Epoch 56/100\n",
            "1022/1022 [==============================] - 0s 51us/step - loss: 0.2845 - acc: 0.8875 - val_loss: 0.3138 - val_acc: 0.8950\n",
            "Epoch 57/100\n",
            "1022/1022 [==============================] - 0s 55us/step - loss: 0.2820 - acc: 0.8904 - val_loss: 0.3141 - val_acc: 0.8858\n",
            "Epoch 58/100\n",
            "1022/1022 [==============================] - 0s 57us/step - loss: 0.2805 - acc: 0.8914 - val_loss: 0.3100 - val_acc: 0.8950\n",
            "Epoch 59/100\n",
            "1022/1022 [==============================] - 0s 52us/step - loss: 0.2777 - acc: 0.8914 - val_loss: 0.3083 - val_acc: 0.8995\n",
            "Epoch 60/100\n",
            "1022/1022 [==============================] - 0s 52us/step - loss: 0.2755 - acc: 0.8933 - val_loss: 0.3068 - val_acc: 0.8995\n",
            "Epoch 61/100\n",
            "1022/1022 [==============================] - 0s 55us/step - loss: 0.2726 - acc: 0.8933 - val_loss: 0.3073 - val_acc: 0.8950\n",
            "Epoch 62/100\n",
            "1022/1022 [==============================] - 0s 51us/step - loss: 0.2713 - acc: 0.8885 - val_loss: 0.3067 - val_acc: 0.8904\n",
            "Epoch 63/100\n",
            "1022/1022 [==============================] - 0s 53us/step - loss: 0.2683 - acc: 0.8973 - val_loss: 0.3064 - val_acc: 0.8950\n",
            "Epoch 64/100\n",
            "1022/1022 [==============================] - 0s 56us/step - loss: 0.2681 - acc: 0.8943 - val_loss: 0.3021 - val_acc: 0.9041\n",
            "Epoch 65/100\n",
            "1022/1022 [==============================] - 0s 55us/step - loss: 0.2658 - acc: 0.8943 - val_loss: 0.3021 - val_acc: 0.8950\n",
            "Epoch 66/100\n",
            "1022/1022 [==============================] - 0s 56us/step - loss: 0.2637 - acc: 0.8933 - val_loss: 0.3007 - val_acc: 0.8950\n",
            "Epoch 67/100\n",
            "1022/1022 [==============================] - 0s 51us/step - loss: 0.2623 - acc: 0.8924 - val_loss: 0.2994 - val_acc: 0.9041\n",
            "Epoch 68/100\n",
            "1022/1022 [==============================] - 0s 56us/step - loss: 0.2622 - acc: 0.8953 - val_loss: 0.2987 - val_acc: 0.9041\n",
            "Epoch 69/100\n",
            "1022/1022 [==============================] - 0s 54us/step - loss: 0.2598 - acc: 0.8933 - val_loss: 0.2990 - val_acc: 0.8950\n",
            "Epoch 70/100\n",
            "1022/1022 [==============================] - 0s 56us/step - loss: 0.2593 - acc: 0.8973 - val_loss: 0.2974 - val_acc: 0.9041\n",
            "Epoch 71/100\n",
            "1022/1022 [==============================] - 0s 55us/step - loss: 0.2567 - acc: 0.8982 - val_loss: 0.2974 - val_acc: 0.8995\n",
            "Epoch 72/100\n",
            "1022/1022 [==============================] - 0s 55us/step - loss: 0.2562 - acc: 0.8992 - val_loss: 0.2961 - val_acc: 0.8950\n",
            "Epoch 73/100\n",
            "1022/1022 [==============================] - 0s 51us/step - loss: 0.2560 - acc: 0.8963 - val_loss: 0.2966 - val_acc: 0.8995\n",
            "Epoch 74/100\n",
            "1022/1022 [==============================] - 0s 52us/step - loss: 0.2554 - acc: 0.8973 - val_loss: 0.2948 - val_acc: 0.8995\n",
            "Epoch 75/100\n",
            "1022/1022 [==============================] - 0s 53us/step - loss: 0.2530 - acc: 0.8943 - val_loss: 0.2967 - val_acc: 0.9041\n",
            "Epoch 76/100\n",
            "1022/1022 [==============================] - 0s 54us/step - loss: 0.2523 - acc: 0.9012 - val_loss: 0.2939 - val_acc: 0.8950\n",
            "Epoch 77/100\n",
            "1022/1022 [==============================] - 0s 58us/step - loss: 0.2512 - acc: 0.8992 - val_loss: 0.2946 - val_acc: 0.8995\n",
            "Epoch 78/100\n",
            "1022/1022 [==============================] - 0s 51us/step - loss: 0.2500 - acc: 0.8992 - val_loss: 0.2938 - val_acc: 0.8950\n",
            "Epoch 79/100\n",
            "1022/1022 [==============================] - 0s 53us/step - loss: 0.2497 - acc: 0.8973 - val_loss: 0.2939 - val_acc: 0.8950\n",
            "Epoch 80/100\n",
            "1022/1022 [==============================] - 0s 53us/step - loss: 0.2490 - acc: 0.8973 - val_loss: 0.2961 - val_acc: 0.9041\n",
            "Epoch 81/100\n",
            "1022/1022 [==============================] - 0s 53us/step - loss: 0.2478 - acc: 0.9012 - val_loss: 0.2923 - val_acc: 0.8904\n",
            "Epoch 82/100\n",
            "1022/1022 [==============================] - 0s 55us/step - loss: 0.2461 - acc: 0.9012 - val_loss: 0.2927 - val_acc: 0.8950\n",
            "Epoch 83/100\n",
            "1022/1022 [==============================] - 0s 69us/step - loss: 0.2462 - acc: 0.9002 - val_loss: 0.2919 - val_acc: 0.8950\n",
            "Epoch 84/100\n",
            "1022/1022 [==============================] - 0s 55us/step - loss: 0.2447 - acc: 0.9012 - val_loss: 0.2950 - val_acc: 0.9041\n",
            "Epoch 85/100\n",
            "1022/1022 [==============================] - 0s 58us/step - loss: 0.2443 - acc: 0.8953 - val_loss: 0.2929 - val_acc: 0.8950\n",
            "Epoch 86/100\n",
            "1022/1022 [==============================] - 0s 51us/step - loss: 0.2432 - acc: 0.9041 - val_loss: 0.2926 - val_acc: 0.8995\n",
            "Epoch 87/100\n",
            "1022/1022 [==============================] - 0s 52us/step - loss: 0.2425 - acc: 0.9022 - val_loss: 0.2931 - val_acc: 0.9041\n",
            "Epoch 88/100\n",
            "1022/1022 [==============================] - 0s 54us/step - loss: 0.2433 - acc: 0.8982 - val_loss: 0.2913 - val_acc: 0.8995\n",
            "Epoch 89/100\n",
            "1022/1022 [==============================] - 0s 52us/step - loss: 0.2423 - acc: 0.9012 - val_loss: 0.2911 - val_acc: 0.8904\n",
            "Epoch 90/100\n",
            "1022/1022 [==============================] - 0s 51us/step - loss: 0.2409 - acc: 0.9031 - val_loss: 0.2913 - val_acc: 0.8904\n",
            "Epoch 91/100\n",
            "1022/1022 [==============================] - 0s 57us/step - loss: 0.2389 - acc: 0.9022 - val_loss: 0.2928 - val_acc: 0.8904\n",
            "Epoch 92/100\n",
            "1022/1022 [==============================] - 0s 54us/step - loss: 0.2399 - acc: 0.9022 - val_loss: 0.2936 - val_acc: 0.8995\n",
            "Epoch 93/100\n",
            "1022/1022 [==============================] - 0s 52us/step - loss: 0.2358 - acc: 0.8982 - val_loss: 0.2913 - val_acc: 0.8950\n",
            "Epoch 94/100\n",
            "1022/1022 [==============================] - 0s 53us/step - loss: 0.2379 - acc: 0.8992 - val_loss: 0.2954 - val_acc: 0.8995\n",
            "Epoch 95/100\n",
            "1022/1022 [==============================] - 0s 52us/step - loss: 0.2395 - acc: 0.9031 - val_loss: 0.2920 - val_acc: 0.8904\n",
            "Epoch 96/100\n",
            "1022/1022 [==============================] - 0s 53us/step - loss: 0.2363 - acc: 0.9051 - val_loss: 0.2943 - val_acc: 0.8995\n",
            "Epoch 97/100\n",
            "1022/1022 [==============================] - 0s 53us/step - loss: 0.2364 - acc: 0.9051 - val_loss: 0.2920 - val_acc: 0.9041\n",
            "Epoch 98/100\n",
            "1022/1022 [==============================] - 0s 54us/step - loss: 0.2369 - acc: 0.9002 - val_loss: 0.2917 - val_acc: 0.9041\n",
            "Epoch 99/100\n",
            "1022/1022 [==============================] - 0s 53us/step - loss: 0.2341 - acc: 0.9051 - val_loss: 0.3010 - val_acc: 0.8904\n",
            "Epoch 100/100\n",
            "1022/1022 [==============================] - 0s 57us/step - loss: 0.2357 - acc: 0.9012 - val_loss: 0.2963 - val_acc: 0.8904\n"
          ],
          "name": "stdout"
        }
      ]
    },
    {
      "cell_type": "code",
      "metadata": {
        "id": "C9x2XY0fVhFV",
        "colab_type": "code",
        "colab": {
          "base_uri": "https://localhost:8080/",
          "height": 51
        },
        "outputId": "a5dc5c06-a071-46be-c8d6-d8a9b94c3bfe"
      },
      "source": [
        "#The reason why we have the index 1 after the model.evaluate function is because\n",
        "#the function returns the loss as the first element and the accuracy as the \n",
        "#second element. To only output the accuracy, simply access the second element \n",
        "#(which is indexed by 1, since the first element starts its indexing from 0).\n",
        "model.evaluate(X_test, Y_test)[1]"
      ],
      "execution_count": 84,
      "outputs": [
        {
          "output_type": "stream",
          "text": [
            "219/219 [==============================] - 0s 80us/step\n"
          ],
          "name": "stdout"
        },
        {
          "output_type": "execute_result",
          "data": {
            "text/plain": [
              "0.8538812755449722"
            ]
          },
          "metadata": {
            "tags": []
          },
          "execution_count": 84
        }
      ]
    },
    {
      "cell_type": "code",
      "metadata": {
        "id": "xtZ7A3DkVvCm",
        "colab_type": "code",
        "colab": {
          "base_uri": "https://localhost:8080/",
          "height": 156
        },
        "outputId": "43832721-7553-4cc1-b6a5-617c857c317b"
      },
      "source": [
        "#Make a prediction\n",
        "prediction = model.predict(X_test)\n",
        "prediction  = [1 if y>=0.85 else 0 for y in prediction] #Threshold\n",
        "print(prediction)\n",
        "print(Y_test)"
      ],
      "execution_count": 88,
      "outputs": [
        {
          "output_type": "stream",
          "text": [
            "[0, 0, 1, 0, 0, 0, 1, 0, 0, 1, 1, 1, 1, 0, 0, 1, 0, 0, 1, 0, 0, 0, 0, 1, 0, 0, 0, 1, 0, 0, 0, 0, 1, 1, 1, 0, 1, 1, 0, 0, 1, 0, 0, 0, 1, 1, 1, 0, 1, 1, 1, 1, 1, 0, 0, 0, 0, 0, 0, 0, 1, 1, 0, 0, 1, 0, 0, 1, 1, 0, 1, 0, 0, 0, 1, 1, 0, 0, 0, 0, 0, 0, 0, 0, 0, 0, 0, 0, 1, 0, 0, 1, 0, 0, 0, 1, 0, 1, 1, 0, 0, 0, 1, 0, 1, 0, 0, 0, 1, 0, 1, 0, 0, 1, 1, 0, 1, 1, 0, 1, 0, 1, 0, 0, 0, 1, 0, 0, 0, 1, 1, 0, 0, 0, 1, 1, 0, 0, 1, 0, 1, 1, 1, 0, 0, 0, 0, 0, 0, 0, 0, 0, 0, 1, 0, 0, 1, 0, 0, 1, 1, 1, 1, 1, 0, 1, 1, 0, 0, 1, 1, 0, 0, 0, 0, 1, 0, 0, 0, 0, 0, 0, 1, 1, 1, 1, 1, 1, 1, 0, 0, 0, 1, 0, 0, 0, 0, 0, 1, 1, 1, 0, 0, 1, 0, 0, 0, 0, 0, 1, 0, 1, 0, 0, 0, 0, 0, 0, 0]\n",
            "[0 1 1 0 0 0 1 1 0 1 1 1 1 0 0 1 0 0 0 0 0 0 0 1 0 1 0 1 1 0 0 1 1 1 1 1 1\n",
            " 1 0 1 1 1 0 1 1 1 1 1 1 1 0 1 1 0 1 0 1 1 0 1 1 1 0 1 1 0 0 1 1 1 0 0 0 0\n",
            " 1 1 0 0 1 0 0 1 1 1 0 0 0 0 1 0 0 1 0 0 0 1 0 1 1 0 0 0 1 1 1 0 0 1 1 0 1\n",
            " 1 0 1 1 1 1 1 0 1 0 1 0 0 0 1 0 0 0 1 1 0 0 0 1 1 0 0 1 0 1 1 1 0 0 1 1 1\n",
            " 1 0 0 1 1 1 0 0 1 1 0 0 1 1 1 1 0 1 1 0 0 1 1 0 0 1 0 1 1 0 0 0 0 0 1 1 1\n",
            " 1 1 1 1 1 1 0 1 1 0 0 0 1 1 1 1 0 0 1 1 0 1 0 1 1 0 1 0 0 0 0 0 0 1]\n"
          ],
          "name": "stdout"
        }
      ]
    },
    {
      "cell_type": "code",
      "metadata": {
        "id": "JCCtskOlW3pt",
        "colab_type": "code",
        "colab": {
          "base_uri": "https://localhost:8080/",
          "height": 295
        },
        "outputId": "d03d1fe7-6d62-4e3f-f671-ead35d056c8c"
      },
      "source": [
        "#visualize the training loss and the validation loss to see if the model is overfitting\n",
        "plt.plot(hist.history['loss'])\n",
        "plt.plot(hist.history['val_loss'])\n",
        "plt.title('Model loss')\n",
        "plt.ylabel('Loss')\n",
        "plt.xlabel('Epoch')\n",
        "plt.legend(['Train', 'Val'], loc='upper right')\n",
        "plt.show()\n"
      ],
      "execution_count": 86,
      "outputs": [
        {
          "output_type": "display_data",
          "data": {
            "image/png": "[encoded data removed]",
            "text/plain": [
              "<Figure size 432x288 with 1 Axes>"
            ]
          },
          "metadata": {
            "tags": []
          }
        }
      ]
    },
    {
      "cell_type": "code",
      "metadata": {
        "id": "IYxMjqT3W5-D",
        "colab_type": "code",
        "colab": {
          "base_uri": "https://localhost:8080/",
          "height": 295
        },
        "outputId": "f1344fbe-40df-4b93-b162-b5c55e161898"
      },
      "source": [
        "#visualize the training accuracy and the validation accuracy to see if the model is overfitting\n",
        "plt.plot(hist.history['acc'])\n",
        "plt.plot(hist.history['val_acc'])\n",
        "plt.title('Model accuracy')\n",
        "plt.ylabel('Accuracy')\n",
        "plt.xlabel('Epoch')\n",
        "plt.legend(['Train', 'Val'], loc='lower right')\n",
        "plt.show()"
      ],
      "execution_count": 87,
      "outputs": [
        {
          "output_type": "display_data",
          "data": {
            "image/png": "[encoded data removed]",
            "text/plain": [
              "<Figure size 432x288 with 1 Axes>"
            ]
          },
          "metadata": {
            "tags": []
          }
        }
      ]
    }
  ]
}
