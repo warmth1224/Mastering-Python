{
  "nbformat": 4,
  "nbformat_minor": 0,
  "metadata": {
    "colab": {
      "name": "Golf Predictions.ipynb",
      "version": "0.3.2",
      "provenance": [],
      "collapsed_sections": [],
      "include_colab_link": true
    },
    "kernelspec": {
      "name": "python3",
      "display_name": "Python 3"
    }
  },
  "cells": [
    {
      "cell_type": "markdown",
      "metadata": {
        "id": "view-in-github",
        "colab_type": "text"
      },
      "source": [
        "<a href=\"https://colab.research.google.com/github/randerson112358/Python/blob/master/Golf_Predictions.ipynb\" target=\"_parent\"><img src=\"https://colab.research.google.com/assets/colab-badge.svg\" alt=\"Open In Colab\"/></a>"
      ]
    },
    {
      "cell_type": "markdown",
      "metadata": {
        "id": "vimIFZlpnP7V",
        "colab_type": "text"
      },
      "source": [
        "# Golf Prediction Using Python Programming \n",
        "\n",
        "This python program predicts if a player will *play* golf that day based on the weather (*Outlook, Temperature, Humidity, Windy*) using a machine learning algorithm called a **Decision Tree**.\n",
        "\n",
        "\n",
        "![alt golf_image](https://cdn.pixabay.com/photo/2018/06/11/21/08/golf-3469394_960_720.jpg)\n",
        "\n",
        "# Decision Trees:\n",
        "\n",
        "**Decision Trees (DTs)** are a non-parametric supervised learning method used for classification and regression. The goal is to create a model that predicts the value of a target variable by learning simple decision rules inferred from the data features.\n",
        "\n",
        "# Pros and Cons of Decision Trees:\n",
        "\n",
        "## Pros:\n",
        "\n",
        "1.   Simple to understand and to interpret\n",
        "2.   List Requires little data preperation\n",
        "\n",
        "##Cons:\n",
        "\n",
        "1.   Prone to overfitting\n",
        "2.   Decition trees can be unstable (a small variation in the data may result in a completely different tree being generated)\n",
        "\n",
        "# Resources:\n",
        "\n",
        "*   https://scikit-learn.org/stable/modules/generated/sklearn.tree.export_graphviz.html\n",
        "*   https://scikit-learn.org/stable/modules/tree.html"
      ]
    },
    {
      "cell_type": "code",
      "metadata": {
        "id": "4WWIpc11k0Rn",
        "colab_type": "code",
        "colab": {}
      },
      "source": [
        "##import machine learning library sklearn and pandas\n",
        "from sklearn import tree\n",
        "import pandas as pd\n"
      ],
      "execution_count": 0,
      "outputs": []
    },
    {
      "cell_type": "code",
      "metadata": {
        "id": "LOLLnZlelwrT",
        "colab_type": "code",
        "colab": {}
      },
      "source": [
        "#Create the dataset\n",
        "\n",
        "#create empty data frame\n",
        "golf_df = pd.DataFrame()\n",
        "\n",
        "#add outlook\n",
        "golf_df['Outlook'] = ['sunny', 'sunny', 'overcast', 'rainy', 'rainy', 'rainy', \n",
        "                     'overcast', 'sunny', 'sunny', 'rainy', 'sunny', 'overcast',\n",
        "                     'overcast', 'rainy']\n",
        "\n",
        "#add temperature\n",
        "golf_df['Temperature'] = ['hot', 'hot', 'hot', 'mild', 'cool', 'cool', 'cool',\n",
        "                         'mild', 'cool', 'mild', 'mild', 'mild', 'hot', 'mild']\n",
        "\n",
        "#add humidity\n",
        "golf_df['Humidity'] = ['high', 'high', 'high', 'high', 'normal', 'normal', 'normal',\n",
        "                      'high', 'normal', 'normal', 'normal', 'high', 'normal', 'high']\n",
        "\n",
        "#add windy\n",
        "golf_df['Windy'] = ['false', 'true', 'false', 'false', 'false', 'true', 'true',\n",
        "                   'false', 'false', 'false', 'true', 'true', 'false', 'true']\n",
        "\n",
        "#finally add play\n",
        "golf_df['Play'] = ['no', 'no', 'yes', 'yes', 'yes', 'no', 'yes', 'no', 'yes', 'yes', 'yes', \n",
        "                  'yes', 'yes', 'no']\n",
        "\n"
      ],
      "execution_count": 0,
      "outputs": []
    },
    {
      "cell_type": "code",
      "metadata": {
        "id": "-r46nrcUD1VD",
        "colab_type": "code",
        "outputId": "cac60753-cb80-46a1-ce74-a3d8c2f79226",
        "colab": {
          "base_uri": "https://localhost:8080/",
          "height": 503
        }
      },
      "source": [
        "# Convert categorical variable into dummy/indicator variables\n",
        "one_hot_data = pd.get_dummies(golf_df[ ['Outlook', 'Temperature', 'Humidity', 'Windy'] ])\n",
        "one_hot_data"
      ],
      "execution_count": 11,
      "outputs": [
        {
          "output_type": "execute_result",
          "data": {
            "text/html": [
              "<div>\n",
              "<style scoped>\n",
              "    .dataframe tbody tr th:only-of-type {\n",
              "        vertical-align: middle;\n",
              "    }\n",
              "\n",
              "    .dataframe tbody tr th {\n",
              "        vertical-align: top;\n",
              "    }\n",
              "\n",
              "    .dataframe thead th {\n",
              "        text-align: right;\n",
              "    }\n",
              "</style>\n",
              "<table border=\"1\" class=\"dataframe\">\n",
              "  <thead>\n",
              "    <tr style=\"text-align: right;\">\n",
              "      <th></th>\n",
              "      <th>Outlook_overcast</th>\n",
              "      <th>Outlook_rainy</th>\n",
              "      <th>Outlook_sunny</th>\n",
              "      <th>Temperature_cool</th>\n",
              "      <th>Temperature_hot</th>\n",
              "      <th>Temperature_mild</th>\n",
              "      <th>Humidity_high</th>\n",
              "      <th>Humidity_normal</th>\n",
              "      <th>Windy_false</th>\n",
              "      <th>Windy_true</th>\n",
              "    </tr>\n",
              "  </thead>\n",
              "  <tbody>\n",
              "    <tr>\n",
              "      <th>0</th>\n",
              "      <td>0</td>\n",
              "      <td>0</td>\n",
              "      <td>1</td>\n",
              "      <td>0</td>\n",
              "      <td>1</td>\n",
              "      <td>0</td>\n",
              "      <td>1</td>\n",
              "      <td>0</td>\n",
              "      <td>1</td>\n",
              "      <td>0</td>\n",
              "    </tr>\n",
              "    <tr>\n",
              "      <th>1</th>\n",
              "      <td>0</td>\n",
              "      <td>0</td>\n",
              "      <td>1</td>\n",
              "      <td>0</td>\n",
              "      <td>1</td>\n",
              "      <td>0</td>\n",
              "      <td>1</td>\n",
              "      <td>0</td>\n",
              "      <td>0</td>\n",
              "      <td>1</td>\n",
              "    </tr>\n",
              "    <tr>\n",
              "      <th>2</th>\n",
              "      <td>1</td>\n",
              "      <td>0</td>\n",
              "      <td>0</td>\n",
              "      <td>0</td>\n",
              "      <td>1</td>\n",
              "      <td>0</td>\n",
              "      <td>1</td>\n",
              "      <td>0</td>\n",
              "      <td>1</td>\n",
              "      <td>0</td>\n",
              "    </tr>\n",
              "    <tr>\n",
              "      <th>3</th>\n",
              "      <td>0</td>\n",
              "      <td>1</td>\n",
              "      <td>0</td>\n",
              "      <td>0</td>\n",
              "      <td>0</td>\n",
              "      <td>1</td>\n",
              "      <td>1</td>\n",
              "      <td>0</td>\n",
              "      <td>1</td>\n",
              "      <td>0</td>\n",
              "    </tr>\n",
              "    <tr>\n",
              "      <th>4</th>\n",
              "      <td>0</td>\n",
              "      <td>1</td>\n",
              "      <td>0</td>\n",
              "      <td>1</td>\n",
              "      <td>0</td>\n",
              "      <td>0</td>\n",
              "      <td>0</td>\n",
              "      <td>1</td>\n",
              "      <td>1</td>\n",
              "      <td>0</td>\n",
              "    </tr>\n",
              "    <tr>\n",
              "      <th>5</th>\n",
              "      <td>0</td>\n",
              "      <td>1</td>\n",
              "      <td>0</td>\n",
              "      <td>1</td>\n",
              "      <td>0</td>\n",
              "      <td>0</td>\n",
              "      <td>0</td>\n",
              "      <td>1</td>\n",
              "      <td>0</td>\n",
              "      <td>1</td>\n",
              "    </tr>\n",
              "    <tr>\n",
              "      <th>6</th>\n",
              "      <td>1</td>\n",
              "      <td>0</td>\n",
              "      <td>0</td>\n",
              "      <td>1</td>\n",
              "      <td>0</td>\n",
              "      <td>0</td>\n",
              "      <td>0</td>\n",
              "      <td>1</td>\n",
              "      <td>0</td>\n",
              "      <td>1</td>\n",
              "    </tr>\n",
              "    <tr>\n",
              "      <th>7</th>\n",
              "      <td>0</td>\n",
              "      <td>0</td>\n",
              "      <td>1</td>\n",
              "      <td>0</td>\n",
              "      <td>0</td>\n",
              "      <td>1</td>\n",
              "      <td>1</td>\n",
              "      <td>0</td>\n",
              "      <td>1</td>\n",
              "      <td>0</td>\n",
              "    </tr>\n",
              "    <tr>\n",
              "      <th>8</th>\n",
              "      <td>0</td>\n",
              "      <td>0</td>\n",
              "      <td>1</td>\n",
              "      <td>1</td>\n",
              "      <td>0</td>\n",
              "      <td>0</td>\n",
              "      <td>0</td>\n",
              "      <td>1</td>\n",
              "      <td>1</td>\n",
              "      <td>0</td>\n",
              "    </tr>\n",
              "    <tr>\n",
              "      <th>9</th>\n",
              "      <td>0</td>\n",
              "      <td>1</td>\n",
              "      <td>0</td>\n",
              "      <td>0</td>\n",
              "      <td>0</td>\n",
              "      <td>1</td>\n",
              "      <td>0</td>\n",
              "      <td>1</td>\n",
              "      <td>1</td>\n",
              "      <td>0</td>\n",
              "    </tr>\n",
              "    <tr>\n",
              "      <th>10</th>\n",
              "      <td>0</td>\n",
              "      <td>0</td>\n",
              "      <td>1</td>\n",
              "      <td>0</td>\n",
              "      <td>0</td>\n",
              "      <td>1</td>\n",
              "      <td>0</td>\n",
              "      <td>1</td>\n",
              "      <td>0</td>\n",
              "      <td>1</td>\n",
              "    </tr>\n",
              "    <tr>\n",
              "      <th>11</th>\n",
              "      <td>1</td>\n",
              "      <td>0</td>\n",
              "      <td>0</td>\n",
              "      <td>0</td>\n",
              "      <td>0</td>\n",
              "      <td>1</td>\n",
              "      <td>1</td>\n",
              "      <td>0</td>\n",
              "      <td>0</td>\n",
              "      <td>1</td>\n",
              "    </tr>\n",
              "    <tr>\n",
              "      <th>12</th>\n",
              "      <td>1</td>\n",
              "      <td>0</td>\n",
              "      <td>0</td>\n",
              "      <td>0</td>\n",
              "      <td>1</td>\n",
              "      <td>0</td>\n",
              "      <td>0</td>\n",
              "      <td>1</td>\n",
              "      <td>1</td>\n",
              "      <td>0</td>\n",
              "    </tr>\n",
              "    <tr>\n",
              "      <th>13</th>\n",
              "      <td>0</td>\n",
              "      <td>1</td>\n",
              "      <td>0</td>\n",
              "      <td>0</td>\n",
              "      <td>0</td>\n",
              "      <td>1</td>\n",
              "      <td>1</td>\n",
              "      <td>0</td>\n",
              "      <td>0</td>\n",
              "      <td>1</td>\n",
              "    </tr>\n",
              "  </tbody>\n",
              "</table>\n",
              "</div>"
            ],
            "text/plain": [
              "    Outlook_overcast  Outlook_rainy  ...  Windy_false  Windy_true\n",
              "0                  0              0  ...            1           0\n",
              "1                  0              0  ...            0           1\n",
              "2                  1              0  ...            1           0\n",
              "3                  0              1  ...            1           0\n",
              "4                  0              1  ...            1           0\n",
              "5                  0              1  ...            0           1\n",
              "6                  1              0  ...            0           1\n",
              "7                  0              0  ...            1           0\n",
              "8                  0              0  ...            1           0\n",
              "9                  0              1  ...            1           0\n",
              "10                 0              0  ...            0           1\n",
              "11                 1              0  ...            0           1\n",
              "12                 1              0  ...            1           0\n",
              "13                 0              1  ...            0           1\n",
              "\n",
              "[14 rows x 10 columns]"
            ]
          },
          "metadata": {
            "tags": []
          },
          "execution_count": 11
        }
      ]
    },
    {
      "cell_type": "code",
      "metadata": {
        "id": "o8iZuXPaFmrc",
        "colab_type": "code",
        "colab": {}
      },
      "source": [
        "# The decision tree classifier.\n",
        "clf = tree.DecisionTreeClassifier()\n",
        "# Training the Decision Tree\n",
        "clf_train = clf.fit(one_hot_data, golf_df['Play'])"
      ],
      "execution_count": 0,
      "outputs": []
    },
    {
      "cell_type": "code",
      "metadata": {
        "id": "xjzXTH4DGfcU",
        "colab_type": "code",
        "outputId": "f856ad03-8930-44d6-96aa-2f8cfeb38303",
        "colab": {
          "base_uri": "https://localhost:8080/",
          "height": 493
        }
      },
      "source": [
        "# Export a decision tree in DOT format.\n",
        "print(tree.export_graphviz(clf_train, None))"
      ],
      "execution_count": 13,
      "outputs": [
        {
          "output_type": "stream",
          "text": [
            "digraph Tree {\n",
            "node [shape=box] ;\n",
            "0 [label=\"X[0] <= 0.5\\ngini = 0.459\\nsamples = 14\\nvalue = [5, 9]\"] ;\n",
            "1 [label=\"X[6] <= 0.5\\ngini = 0.5\\nsamples = 10\\nvalue = [5, 5]\"] ;\n",
            "0 -> 1 [labeldistance=2.5, labelangle=45, headlabel=\"True\"] ;\n",
            "2 [label=\"X[9] <= 0.5\\ngini = 0.32\\nsamples = 5\\nvalue = [1, 4]\"] ;\n",
            "1 -> 2 ;\n",
            "3 [label=\"gini = 0.0\\nsamples = 3\\nvalue = [0, 3]\"] ;\n",
            "2 -> 3 ;\n",
            "4 [label=\"X[3] <= 0.5\\ngini = 0.5\\nsamples = 2\\nvalue = [1, 1]\"] ;\n",
            "2 -> 4 ;\n",
            "5 [label=\"gini = 0.0\\nsamples = 1\\nvalue = [0, 1]\"] ;\n",
            "4 -> 5 ;\n",
            "6 [label=\"gini = 0.0\\nsamples = 1\\nvalue = [1, 0]\"] ;\n",
            "4 -> 6 ;\n",
            "7 [label=\"X[2] <= 0.5\\ngini = 0.32\\nsamples = 5\\nvalue = [4, 1]\"] ;\n",
            "1 -> 7 ;\n",
            "8 [label=\"X[8] <= 0.5\\ngini = 0.5\\nsamples = 2\\nvalue = [1, 1]\"] ;\n",
            "7 -> 8 ;\n",
            "9 [label=\"gini = 0.0\\nsamples = 1\\nvalue = [1, 0]\"] ;\n",
            "8 -> 9 ;\n",
            "10 [label=\"gini = 0.0\\nsamples = 1\\nvalue = [0, 1]\"] ;\n",
            "8 -> 10 ;\n",
            "11 [label=\"gini = 0.0\\nsamples = 3\\nvalue = [3, 0]\"] ;\n",
            "7 -> 11 ;\n",
            "12 [label=\"gini = 0.0\\nsamples = 4\\nvalue = [0, 4]\"] ;\n",
            "0 -> 12 [labeldistance=2.5, labelangle=-45, headlabel=\"False\"] ;\n",
            "}\n"
          ],
          "name": "stdout"
        }
      ]
    },
    {
      "cell_type": "code",
      "metadata": {
        "id": "nurq3daVHb7k",
        "colab_type": "code",
        "outputId": "5fd67bec-915c-4fad-c847-3062827231e8",
        "colab": {
          "base_uri": "https://localhost:8080/",
          "height": 34
        }
      },
      "source": [
        "# Test model prediction input:\n",
        "# Outlook = sunny,Temperature =  hot, Humidity = normal, Windy = false\n",
        "prediction = clf_train.predict([[0,0,1,0,1,0,0,1,1,0]])\n",
        "prediction"
      ],
      "execution_count": 16,
      "outputs": [
        {
          "output_type": "execute_result",
          "data": {
            "text/plain": [
              "array(['yes'], dtype=object)"
            ]
          },
          "metadata": {
            "tags": []
          },
          "execution_count": 16
        }
      ]
    },
    {
      "cell_type": "code",
      "metadata": {
        "id": "2w37NdnkHegs",
        "colab_type": "code",
        "colab": {}
      },
      "source": [
        ""
      ],
      "execution_count": 0,
      "outputs": []
    },
    {
      "cell_type": "code",
      "metadata": {
        "id": "2mr6vTVg4yPK",
        "colab_type": "code",
        "colab": {}
      },
      "source": [
        ""
      ],
      "execution_count": 0,
      "outputs": []
    }
  ]
}
