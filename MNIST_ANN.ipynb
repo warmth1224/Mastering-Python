{
  "nbformat": 4,
  "nbformat_minor": 0,
  "metadata": {
    "colab": {
      "name": "MNIST_ANN.ipynb",
      "version": "0.3.2",
      "provenance": []
    },
    "kernelspec": {
      "name": "python3",
      "display_name": "Python 3"
    }
  },
  "cells": [
    {
      "cell_type": "code",
      "metadata": {
        "id": "cEUq8cIBTeiX",
        "colab_type": "code",
        "colab": {
          "base_uri": "https://localhost:8080/",
          "height": 510
        },
        "outputId": "ecb56659-6540-4ae5-aaea-8dbff9a38922"
      },
      "source": [
        "# Description: This program classifies the MNIST handwritten digit images\n",
        "#              as a number 0 - 9\n",
        "\n",
        "# Install packages\n",
        "pip install tensorflow keras numpy mnist matplotlib"
      ],
      "execution_count": 26,
      "outputs": [
        {
          "output_type": "stream",
          "text": [
            "Requirement already satisfied: tensorflow in /usr/local/lib/python3.6/dist-packages (1.14.0rc1)\n",
            "Requirement already satisfied: keras in /usr/local/lib/python3.6/dist-packages (2.2.4)\n",
            "Requirement already satisfied: numpy in /usr/local/lib/python3.6/dist-packages (1.16.4)\n",
            "Requirement already satisfied: mnist in /usr/local/lib/python3.6/dist-packages (0.2.2)\n",
            "Requirement already satisfied: matplotlib in /usr/local/lib/python3.6/dist-packages (3.0.3)\n",
            "Requirement already satisfied: termcolor>=1.1.0 in /usr/local/lib/python3.6/dist-packages (from tensorflow) (1.1.0)\n",
            "Requirement already satisfied: tensorboard<1.14.0,>=1.13.0 in /usr/local/lib/python3.6/dist-packages (from tensorflow) (1.13.1)\n",
            "Requirement already satisfied: wheel>=0.26 in /usr/local/lib/python3.6/dist-packages (from tensorflow) (0.33.4)\n",
            "Requirement already satisfied: keras-applications>=1.0.6 in /usr/local/lib/python3.6/dist-packages (from tensorflow) (1.0.8)\n",
            "Requirement already satisfied: keras-preprocessing>=1.0.5 in /usr/local/lib/python3.6/dist-packages (from tensorflow) (1.1.0)\n",
            "Requirement already satisfied: protobuf>=3.6.1 in /usr/local/lib/python3.6/dist-packages (from tensorflow) (3.7.1)\n",
            "Requirement already satisfied: google-pasta>=0.1.6 in /usr/local/lib/python3.6/dist-packages (from tensorflow) (0.1.7)\n",
            "Requirement already satisfied: wrapt>=1.11.1 in /usr/local/lib/python3.6/dist-packages (from tensorflow) (1.11.1)\n",
            "Requirement already satisfied: six>=1.10.0 in /usr/local/lib/python3.6/dist-packages (from tensorflow) (1.12.0)\n",
            "Requirement already satisfied: gast>=0.2.0 in /usr/local/lib/python3.6/dist-packages (from tensorflow) (0.2.2)\n",
            "Requirement already satisfied: tensorflow-estimator<1.15.0rc0,>=1.14.0rc0 in /usr/local/lib/python3.6/dist-packages (from tensorflow) (1.14.0rc1)\n",
            "Requirement already satisfied: grpcio>=1.8.6 in /usr/local/lib/python3.6/dist-packages (from tensorflow) (1.15.0)\n",
            "Requirement already satisfied: absl-py>=0.7.0 in /usr/local/lib/python3.6/dist-packages (from tensorflow) (0.7.1)\n",
            "Requirement already satisfied: astor>=0.6.0 in /usr/local/lib/python3.6/dist-packages (from tensorflow) (0.8.0)\n",
            "Requirement already satisfied: pyyaml in /usr/local/lib/python3.6/dist-packages (from keras) (3.13)\n",
            "Requirement already satisfied: scipy>=0.14 in /usr/local/lib/python3.6/dist-packages (from keras) (1.3.0)\n",
            "Requirement already satisfied: h5py in /usr/local/lib/python3.6/dist-packages (from keras) (2.8.0)\n",
            "Requirement already satisfied: cycler>=0.10 in /usr/local/lib/python3.6/dist-packages (from matplotlib) (0.10.0)\n",
            "Requirement already satisfied: kiwisolver>=1.0.1 in /usr/local/lib/python3.6/dist-packages (from matplotlib) (1.1.0)\n",
            "Requirement already satisfied: python-dateutil>=2.1 in /usr/local/lib/python3.6/dist-packages (from matplotlib) (2.5.3)\n",
            "Requirement already satisfied: pyparsing!=2.0.4,!=2.1.2,!=2.1.6,>=2.0.1 in /usr/local/lib/python3.6/dist-packages (from matplotlib) (2.4.0)\n",
            "Requirement already satisfied: werkzeug>=0.11.15 in /usr/local/lib/python3.6/dist-packages (from tensorboard<1.14.0,>=1.13.0->tensorflow) (0.15.4)\n",
            "Requirement already satisfied: markdown>=2.6.8 in /usr/local/lib/python3.6/dist-packages (from tensorboard<1.14.0,>=1.13.0->tensorflow) (3.1.1)\n",
            "Requirement already satisfied: setuptools in /usr/local/lib/python3.6/dist-packages (from protobuf>=3.6.1->tensorflow) (41.0.1)\n"
          ],
          "name": "stdout"
        }
      ]
    },
    {
      "cell_type": "code",
      "metadata": {
        "id": "ehnsueDUUI1r",
        "colab_type": "code",
        "colab": {}
      },
      "source": [
        "#import the packages / dependecies\n",
        "import numpy as np \n",
        "import mnist # Get data set from\n",
        "from keras.models import Sequential #ANN architecture\n",
        "from keras. layers import Dense # The layers in the ANN\n",
        "from keras.utils import to_categorical\n",
        "import matplotlib.pyplot as plt # Graph"
      ],
      "execution_count": 0,
      "outputs": []
    },
    {
      "cell_type": "code",
      "metadata": {
        "id": "bNiQWH_NUhTy",
        "colab_type": "code",
        "colab": {}
      },
      "source": [
        "#Load the data set\n",
        "train_images = mnist.train_images() # training data of images\n",
        "train_labels = mnist.train_labels() # training data of the labels\n",
        "test_images = mnist. test_images()  # testing data images\n",
        "test_labels = mnist.test_labels()   # testing data labels"
      ],
      "execution_count": 0,
      "outputs": []
    },
    {
      "cell_type": "code",
      "metadata": {
        "id": "VY0-HNI-VDgR",
        "colab_type": "code",
        "colab": {
          "base_uri": "https://localhost:8080/",
          "height": 51
        },
        "outputId": "49555bf2-1dd4-407e-8579-e8824dd48b07"
      },
      "source": [
        "#Normalize the images \n",
        "#Normalize the pixel values from [0, 255] to [-0.5 to 0.5]\n",
        "#This make the network easier to train\n",
        "train_images = (train_images / 255) - 0.5\n",
        "test_images = (test_images/ 255) - 0.5\n",
        "\n",
        "#Flatten the images. Flatten each 28 x 28 image into a 784= 28^2 \n",
        "#dimensional vector and pass into the neural network\n",
        "train_images = train_images.reshape((-1, 784))\n",
        "test_images = test_images.reshape((-1,784))\n",
        "#print the new image shape\n",
        "print(train_images.shape) #60,000 rows and 784 cols\n",
        "print(test_images.shape)  #10,000 rows and 784 cols"
      ],
      "execution_count": 29,
      "outputs": [
        {
          "output_type": "stream",
          "text": [
            "(60000, 784)\n",
            "(10000, 784)\n"
          ],
          "name": "stdout"
        }
      ]
    },
    {
      "cell_type": "code",
      "metadata": {
        "id": "eYpbz8nsWerD",
        "colab_type": "code",
        "colab": {}
      },
      "source": [
        "#Build the ANN model\n",
        "#With 3 layers, 2 with 64 neurons and activation function = relu\n",
        "#    and  1 layer with 10 neurons with activation function= softmax\n",
        "model = Sequential()\n",
        "model.add(Dense(64, activation='relu', input_dim=784))\n",
        "model.add(Dense(64, activation='relu'))\n",
        "model.add(Dense(10, activation='softmax'))"
      ],
      "execution_count": 0,
      "outputs": []
    },
    {
      "cell_type": "code",
      "metadata": {
        "id": "NG9dfatZXlTk",
        "colab_type": "code",
        "colab": {}
      },
      "source": [
        "#Compile the model\n",
        "# loss measures how well the model did on training, and then tries to improve on\n",
        "# it using the optimizer\n",
        "model.compile(\n",
        "  optimizer= 'adam',\n",
        "    loss = 'categorical_crossentropy', #loss function for classes > 2\n",
        "    metrics = ['accuracy']\n",
        ")"
      ],
      "execution_count": 0,
      "outputs": []
    },
    {
      "cell_type": "code",
      "metadata": {
        "id": "yhMQSC4AYBjt",
        "colab_type": "code",
        "colab": {
          "base_uri": "https://localhost:8080/",
          "height": 204
        },
        "outputId": "18664389-7bd8-498f-90a4-b8033efd8d8e"
      },
      "source": [
        "#Train the model\n",
        "model.fit(\n",
        "    train_images, #The training data images\n",
        "    to_categorical(train_labels),#The trainind data labels, label data only returns a single digit representing the class of each label Ex: train_labels = 2,to_categorical(2)= [0,0,1,0,0,0,0,0,0,0]\n",
        "    epochs=5, #Number of iterations over the entire data set to train on\n",
        "    batch_size = 3 #The number of samples per gradient update for training\n",
        ")"
      ],
      "execution_count": 32,
      "outputs": [
        {
          "output_type": "stream",
          "text": [
            "Epoch 1/5\n",
            "60000/60000 [==============================] - 31s 518us/step - loss: 0.3158 - acc: 0.9014\n",
            "Epoch 2/5\n",
            "60000/60000 [==============================] - 31s 513us/step - loss: 0.1876 - acc: 0.9433\n",
            "Epoch 3/5\n",
            "60000/60000 [==============================] - 31s 517us/step - loss: 0.1603 - acc: 0.9516\n",
            "Epoch 4/5\n",
            "60000/60000 [==============================] - 31s 511us/step - loss: 0.1446 - acc: 0.9570\n",
            "Epoch 5/5\n",
            "60000/60000 [==============================] - 30s 498us/step - loss: 0.1365 - acc: 0.9601\n"
          ],
          "name": "stdout"
        },
        {
          "output_type": "execute_result",
          "data": {
            "text/plain": [
              "<keras.callbacks.History at 0x7f167e5e36d8>"
            ]
          },
          "metadata": {
            "tags": []
          },
          "execution_count": 32
        }
      ]
    },
    {
      "cell_type": "code",
      "metadata": {
        "id": "_6Df_KcYaPsd",
        "colab_type": "code",
        "colab": {
          "base_uri": "https://localhost:8080/",
          "height": 51
        },
        "outputId": "2a0472dc-1a26-4e58-c350-c276553361a5"
      },
      "source": [
        "#Evaluate the model\n",
        "model.evaluate(\n",
        "  test_images,\n",
        "  to_categorical(test_labels)\n",
        ")"
      ],
      "execution_count": 33,
      "outputs": [
        {
          "output_type": "stream",
          "text": [
            "10000/10000 [==============================] - 0s 28us/step\n"
          ],
          "name": "stdout"
        },
        {
          "output_type": "execute_result",
          "data": {
            "text/plain": [
              "[0.15349477015165613, 0.9551]"
            ]
          },
          "metadata": {
            "tags": []
          },
          "execution_count": 33
        }
      ]
    },
    {
      "cell_type": "code",
      "metadata": {
        "id": "3kTAapL9akr0",
        "colab_type": "code",
        "colab": {}
      },
      "source": [
        "#save the model to disk\n",
        "model.save_weights('model.h5')\n",
        "# Load the model from disk later using:\n",
        "# Build the model.\n",
        "#model = Sequential([\n",
        "#  Dense(64, activation='relu', input_shape=(784,)),\n",
        "#  Dense(64, activation='relu'),\n",
        "#  Dense(10, activation='softmax'),\n",
        "#])\n",
        "# model.load_weights('model.h5')"
      ],
      "execution_count": 0,
      "outputs": []
    },
    {
      "cell_type": "code",
      "metadata": {
        "id": "LBcV8923a0MW",
        "colab_type": "code",
        "colab": {
          "base_uri": "https://localhost:8080/",
          "height": 51
        },
        "outputId": "c04291a7-92ae-4b06-a1e7-39849fd5712e"
      },
      "source": [
        "#Make predictions\n",
        "# Predict on the first 5 test images.\n",
        "# Keep in mind that the output of our network is 10 probabilities, \n",
        "#   so we'll use np.argmax()to turn those into actual digits\n",
        "predictions = model.predict(test_images[:5])\n",
        "#print(predictions)\n",
        "print (np.argmax(predictions, axis =1))\n",
        "print(test_labels[:5])"
      ],
      "execution_count": 35,
      "outputs": [
        {
          "output_type": "stream",
          "text": [
            "[7 2 1 0 4]\n",
            "[7 2 1 0 4]\n"
          ],
          "name": "stdout"
        }
      ]
    },
    {
      "cell_type": "code",
      "metadata": {
        "id": "zm4BrF2obdyr",
        "colab_type": "code",
        "colab": {
          "base_uri": "https://localhost:8080/",
          "height": 1277
        },
        "outputId": "b53000a7-733a-495d-b67c-4a97dd9ef900"
      },
      "source": [
        "import matplotlib.pyplot as plt\n",
        "for i in range(0,5):\n",
        "  first_image = test_images[i]\n",
        "  first_image = np.array(first_image, dtype='float')\n",
        "  pixels = first_image.reshape((28, 28))\n",
        "  plt.imshow(pixels, cmap='gray')\n",
        "  plt.show()"
      ],
      "execution_count": 36,
      "outputs": [
        {
          "output_type": "display_data",
          "data": {
            "image/png": "[encoded data removed]",
            "text/plain": [
              "<Figure size 432x288 with 1 Axes>"
            ]
          },
          "metadata": {
            "tags": []
          }
        },
        {
          "output_type": "display_data",
          "data": {
            "image/png": "[encoded data removed]",
            "text/plain": [
              "<Figure size 432x288 with 1 Axes>"
            ]
          },
          "metadata": {
            "tags": []
          }
        },
        {
          "output_type": "display_data",
          "data": {
            "image/png": "[encoded data removed]",
            "text/plain": [
              "<Figure size 432x288 with 1 Axes>"
            ]
          },
          "metadata": {
            "tags": []
          }
        },
        {
          "output_type": "display_data",
          "data": {
            "image/png": "[encoded data removed]",
            "text/plain": [
              "<Figure size 432x288 with 1 Axes>"
            ]
          },
          "metadata": {
            "tags": []
          }
        },
        {
          "output_type": "display_data",
          "data": {
            "image/png": "[encoded data removed]",
            "text/plain": [
              "<Figure size 432x288 with 1 Axes>"
            ]
          },
          "metadata": {
            "tags": []
          }
        }
      ]
    }
  ]
}